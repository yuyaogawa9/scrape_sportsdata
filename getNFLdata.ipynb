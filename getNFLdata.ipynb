{
 "cells": [
  {
   "cell_type": "code",
   "execution_count": 66,
   "metadata": {},
   "outputs": [],
   "source": [
    "import requests\n",
    "import pandas as pd\n",
    "import time\n",
    "from lxml import html"
   ]
  },
  {
   "cell_type": "code",
   "execution_count": 68,
   "metadata": {},
   "outputs": [],
   "source": [
    "def get_details(url):\n",
    "    full_url = f\"https://www.pro-football-reference.com{url}\"\n",
    "    try:\n",
    "        response = requests.get(full_url)\n",
    "        response.raise_for_status()\n",
    "        tree = html.fromstring(response.content)\n",
    "\n",
    "        # Extract details\n",
    "        home_team = tree.xpath('(//div[@class=\"scorebox\"]//strong/a)[2]/text()')[0]\n",
    "        visitor_team = tree.xpath('(//div[@class=\"scorebox\"]//strong/a)[1]/text()')[0]\n",
    "        home_score = tree.xpath('(//div[@class=\"scorebox\"]//div[@class=\"score\"])[2]/text()')[0]\n",
    "        visitor_score = tree.xpath('(//div[@class=\"scorebox\"]//div[@class=\"score\"])[1]/text()')[0]\n",
    "        stadium = tree.xpath('(//div[@class=\"scorebox_meta\"]//div/a)[1]/text()')[0]\n",
    "        attendance = tree.xpath('(//div[@class=\"scorebox_meta\"]//div/a)[2]/text()')[0]\n",
    "        \n",
    "        return {\n",
    "            \"home_team\": home_team,\n",
    "            \"visitor_team\": visitor_team,\n",
    "            \"home_score\": home_score,\n",
    "            \"visitor_score\": visitor_score,\n",
    "            \"stadium\": stadium,\n",
    "            \"attendance\": attendance.replace(\",\", \"\")\n",
    "        }\n",
    "    \n",
    "    except Exception as e:\n",
    "        print(f\"Error fetching boxscore details: {e}\")\n",
    "        return {}\n",
    "\n",
    "def scrape_nfl_games(year):\n",
    "    url = f\"https://www.pro-football-reference.com/years/{year}/games.htm\"\n",
    "    headers = {\n",
    "        \"User-Agent\": \"Mozilla/5.0 (Windows NT 10.0; Win64; x64)\",\n",
    "        \"Accept-Language\": \"en-US,en;q=0.9\",\n",
    "        \"Accept-Encoding\": \"gzip, deflate, br\",\n",
    "        \"Connection\": \"keep-alive\"\n",
    "    }\n",
    "\n",
    "\n",
    "    try:\n",
    "        response = requests.get(url, headers=headers)\n",
    "        response.raise_for_status()\n",
    "        tree = html.fromstring(response.content)\n",
    "\n",
    "        rows = tree.xpath('//table[@id=\"games\"]/tbody/tr[not(contains(@class, \"thead\"))]')\n",
    "        games = []\n",
    "\n",
    "        for row in rows:\n",
    "            date = row.xpath('./td[@data-stat=\"game_date\"]/text()')\n",
    "            boxscore_link = row.xpath('./td[@data-stat=\"boxscore_word\"]/a/@href')\n",
    "\n",
    "            if boxscore_link:\n",
    "                details = get_details(boxscore_link[0])\n",
    "                time.sleep(3)\n",
    "                if details:\n",
    "                    games.append({\n",
    "                        \"date\": date[0] if date else None,\n",
    "                        \"visitor_team\": details[\"visitor_team\"],\n",
    "                        \"visitor_score\": details[\"visitor_score\"],\n",
    "                        \"home_team\": details[\"home_team\"],\n",
    "                        \"home_score\": details[\"home_score\"],\n",
    "                        \"stadium\": details[\"stadium\"],\n",
    "                        \"attendance\": details[\"attendance\"]\n",
    "                    })\n",
    "\n",
    "        return pd.DataFrame(games)\n",
    "    except Exception as e:\n",
    "        print(f\"Error scraping games for {year}: {e}\")\n",
    "        return pd.DataFrame()\n"
   ]
  },
  {
   "cell_type": "code",
   "execution_count": null,
   "metadata": {},
   "outputs": [],
   "source": [
    "def scrape_nfl_games_all_years(start_year=2000):\n",
    "    end_year = pd.Timestamp.now().year\n",
    "    all_games = []\n",
    "\n",
    "    for year in range(start_year, end_year + 1):\n",
    "        print(f\"Scraping {year}...\")\n",
    "        df = scrape_nfl_games(year)\n",
    "        if not df.empty:\n",
    "            all_games.append(df)\n",
    "        time.sleep(3)  # Politeness delay\n",
    "\n",
    "    return pd.concat(all_games, ignore_index=True)\n",
    "\n",
    "# Example usage\n",
    "df_all_nfl = scrape_nfl_games_all_years(start_year=2000)\n"
   ]
  },
  {
   "cell_type": "code",
   "execution_count": 70,
   "metadata": {},
   "outputs": [],
   "source": [
    "df_all_nfl.to_csv('NFL.csv', index=False)"
   ]
  }
 ],
 "metadata": {
  "kernelspec": {
   "display_name": "Python 3",
   "language": "python",
   "name": "python3"
  },
  "language_info": {
   "codemirror_mode": {
    "name": "ipython",
    "version": 3
   },
   "file_extension": ".py",
   "mimetype": "text/x-python",
   "name": "python",
   "nbconvert_exporter": "python",
   "pygments_lexer": "ipython3",
   "version": "3.9.6"
  }
 },
 "nbformat": 4,
 "nbformat_minor": 2
}
